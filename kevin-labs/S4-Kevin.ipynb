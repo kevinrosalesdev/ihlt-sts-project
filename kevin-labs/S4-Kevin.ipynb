{
 "cells": [
  {
   "cell_type": "markdown",
   "metadata": {},
   "source": [
    "# IHLT - Lab 4\n",
    "\n",
    "1. Consider Treebank corpus.\n",
    "    - Train HMM, TnT, perceptron and CRF models using the first 500, 1000, 1500, 2000, 2500 and 3000 sentences.\n",
    "\n",
    "    - Evaluate the resulting 24 models using sentences from 3001.\n",
    "    \n",
    "    \n",
    "2. Provide a figure with four learning curves, each per model type (X=training set size; Y=accuracy).\n",
    "    - Which model would you select? Justify the answer."
   ]
  },
  {
   "cell_type": "markdown",
   "metadata": {},
   "source": [
    "## Imports"
   ]
  },
  {
   "cell_type": "code",
   "execution_count": 1,
   "metadata": {},
   "outputs": [],
   "source": [
    "import dill\n",
    "\n",
    "from os import path\n",
    "from nltk.tag import tnt, CRFTagger\n",
    "from nltk.tag.hmm import HiddenMarkovModelTrainer\n",
    "from nltk.tag.perceptron import PerceptronTagger\n",
    "from nltk.corpus import treebank\n",
    "from matplotlib import pyplot as plt"
   ]
  },
  {
   "cell_type": "markdown",
   "metadata": {},
   "source": [
    "## 1. Models creation and training\n",
    "\n",
    "*HMM*, *TnT*, *Perceptron* and *CRF* models are trained using the first sentences of the *Treebank corpus*. For each model, six quantities of sentences (500, 1000, 1500, 2000, 2500 and 3000) are used for the training step, getting a total amount of 24 models."
   ]
  },
  {
   "cell_type": "code",
   "execution_count": 2,
   "metadata": {},
   "outputs": [],
   "source": [
    "sentences_amount = [500, 1000, 1500, 2000, 2500, 3000]\n",
    "HMM = list()\n",
    "TnT = list()\n",
    "PER = list()\n",
    "CRF = list()"
   ]
  },
  {
   "cell_type": "code",
   "execution_count": 3,
   "metadata": {},
   "outputs": [
    {
     "name": "stdout",
     "output_type": "stream",
     "text": [
      "[Training models using the first 3000 sentences...]\n",
      "[Training process finished!]\n"
     ]
    }
   ],
   "source": [
    "for i in sentences_amount:\n",
    "    \n",
    "    print(\"[Training models using the first \" + str(i) + \" sentences...]\", end='\\r')\n",
    "    \n",
    "    train_data = treebank.tagged_sents()[:i]\n",
    "    \n",
    "    trainer = HiddenMarkovModelTrainer()\n",
    "    HMM.append(trainer.train_supervised(train_data))\n",
    "    \n",
    "    TnT_model = tnt.TnT()\n",
    "    TnT_model.train(train_data)\n",
    "    TnT.append(TnT_model)\n",
    "    \n",
    "    PER_model = PerceptronTagger(load=False)\n",
    "    PER_model.train(train_data)\n",
    "    PER.append(PER_model)\n",
    "    \n",
    "    CRF_model = CRFTagger()\n",
    "    CRF_model.train(train_data,'crf_treebank_pos_tagger_' + str(i))\n",
    "    CRF.append(CRF_model)\n",
    "\n",
    "print(\"\\n[Training process finished!]\")"
   ]
  },
  {
   "cell_type": "markdown",
   "metadata": {},
   "source": [
    "### 1.1 Models saving\n",
    "Although CRF Models are already saved when the training process ends (`CRF_model.train(train_data, 'model_file')`), the rest of the models require an extra step to save them. \n",
    "\n",
    "`dill` will be used to save these models."
   ]
  },
  {
   "cell_type": "code",
   "execution_count": 4,
   "metadata": {},
   "outputs": [],
   "source": [
    "for index, i in enumerate(sentences_amount):\n",
    "    with open(\"hmm_treebank_pos_tagger_\" + str(i), \"wb\") as f:\n",
    "        dill.dump(HMM[index], f)\n",
    "    with open(\"tnt_treebank_pos_tagger_\" + str(i), \"wb\") as f:\n",
    "        dill.dump(TnT[index], f)\n",
    "    with open(\"per_treebank_pos_tagger_\" + str(i), \"wb\") as f:\n",
    "        dill.dump(PER[index], f)"
   ]
  },
  {
   "cell_type": "markdown",
   "metadata": {},
   "source": [
    "### 1.2 Models loading\n",
    "In order to avoid the training step, it is possible to load pre-trained models that were saved in the previous step.\n",
    "\n",
    "`dill` will be used to load these models."
   ]
  },
  {
   "cell_type": "code",
   "execution_count": 3,
   "metadata": {},
   "outputs": [],
   "source": [
    "for index, i in enumerate(sentences_amount):\n",
    "    with open(\"hmm_treebank_pos_tagger_\" + str(i), \"rb\") as f:\n",
    "        HMM.append(dill.load(f))\n",
    "    with open(\"tnt_treebank_pos_tagger_\" + str(i), \"rb\") as f:\n",
    "        TnT.append(dill.load(f))\n",
    "    with open(\"per_treebank_pos_tagger_\" + str(i), \"rb\") as f:\n",
    "        PER.append(dill.load(f))\n",
    "    \n",
    "    if path.isfile('crf_treebank_pos_tagger_' + str(i)):\n",
    "        CRF_model = CRFTagger()\n",
    "        CRF_model.set_model_file('crf_treebank_pos_tagger_' + str(i))\n",
    "        CRF.append(CRF_model)\n",
    "    else:\n",
    "        raise Exception('File crf_treebank_pos_tagger_' + str(i) + ' does not exist.')"
   ]
  },
  {
   "cell_type": "markdown",
   "metadata": {},
   "source": [
    "## Models evaluation\n",
    "The first way that will be used to evaluate the models is the method `evaluate(test_data)`.\n",
    "\n",
    "The test data will include all sentences from 3001 of the *Treebank corpus*."
   ]
  },
  {
   "cell_type": "code",
   "execution_count": 4,
   "metadata": {},
   "outputs": [
    {
     "name": "stdout",
     "output_type": "stream",
     "text": [
      "[Evaluating models trained using the first 3000 sentences...]\n",
      "[Evaluation process finished!]\n"
     ]
    }
   ],
   "source": [
    "HMM_results = list()\n",
    "TnT_results = list()\n",
    "PER_results = list()\n",
    "CRF_results = list()\n",
    "\n",
    "test_data = treebank.tagged_sents()[3001:]\n",
    "\n",
    "for index, i in enumerate(sentences_amount):\n",
    "    \n",
    "    print(\"[Evaluating models trained using the first \" + str(i) + \" sentences...]\", end='\\r')\n",
    "    \n",
    "    HMM_results.append(round(HMM[index].evaluate(test_data), 3))\n",
    "    TnT_results.append(round(TnT[index].evaluate(test_data), 3))\n",
    "    PER_results.append(round(PER[index].evaluate(test_data), 3))\n",
    "    CRF_results.append(round(CRF[index].evaluate(test_data), 3))\n",
    "    \n",
    "print(\"\\n[Evaluation process finished!]\")"
   ]
  },
  {
   "cell_type": "code",
   "execution_count": 5,
   "metadata": {},
   "outputs": [
    {
     "name": "stdout",
     "output_type": "stream",
     "text": [
      "HMM Accuracy (each value is from a model trained with 500 more sentences (starting from 500)):\n",
      "[0.173, 0.221, 0.262, 0.304, 0.335, 0.369]\n",
      "\n",
      "TnT Accuracy (each value is from a model trained with 500 more sentences (starting from 500)):\n",
      "[0.747, 0.796, 0.828, 0.849, 0.862, 0.876]\n",
      "\n",
      "Perceptron Accuracy (each value is from a model trained with 500 more sentences (starting from 500)):\n",
      "[0.913, 0.932, 0.943, 0.948, 0.953, 0.958]\n",
      "\n",
      "CRF Accuracy (each value is from a model trained with 500 more sentences (starting from 500)):\n",
      "[0.91, 0.925, 0.933, 0.939, 0.943, 0.948]\n",
      "\n"
     ]
    }
   ],
   "source": [
    "print(\"HMM Accuracy (each value is from a model trained with 500 more sentences (starting from 500)):\\n\"\n",
    "      + str(HMM_results) + '\\n')\n",
    "print(\"TnT Accuracy (each value is from a model trained with 500 more sentences (starting from 500)):\\n\"\n",
    "      + str(TnT_results) + '\\n')\n",
    "print(\"Perceptron Accuracy (each value is from a model trained with 500 more sentences (starting from 500)):\\n\"\n",
    "      + str(PER_results) + '\\n')\n",
    "print(\"CRF Accuracy (each value is from a model trained with 500 more sentences (starting from 500)):\\n\"\n",
    "      + str(CRF_results) + '\\n')"
   ]
  },
  {
   "cell_type": "markdown",
   "metadata": {},
   "source": [
    "### 2.1 Figure with learning curves\n",
    "The second way that will be used to measure the performance of the models will be a figure with the four learning curves. Each curve will represent a model type and will include 6 points (one per training set size) showing the accuracy."
   ]
  },
  {
   "cell_type": "code",
   "execution_count": 6,
   "metadata": {
    "scrolled": false
   },
   "outputs": [
    {
     "data": {
      "image/png": "[encoded data removed]",
      "text/plain": [
       "<Figure size 864x432 with 1 Axes>"
      ]
     },
     "metadata": {
      "needs_background": "light"
     },
     "output_type": "display_data"
    }
   ],
   "source": [
    "plt.figure(figsize=(12,6))\n",
    "plt.plot(sentences_amount, HMM_results, 'o-')\n",
    "plt.plot(sentences_amount, TnT_results, 'o-')\n",
    "plt.plot(sentences_amount, PER_results, 'o-')\n",
    "plt.plot(sentences_amount, CRF_results, 'o-')\n",
    "plt.title('Models Learning Curves')\n",
    "plt.xlabel('Training set size')\n",
    "plt.ylabel('Accuracy')\n",
    "plt.legend(['HMM', 'TnT', 'Perceptron', 'CRF'])\n",
    "plt.grid()\n",
    "plt.show()"
   ]
  },
  {
   "cell_type": "markdown",
   "metadata": {},
   "source": [
    "**Which model would you select? Justify the answer.**\n",
    "\n",
    "I would select Perceptron model as it has the highest accuracy compared to the other 3 models. \n",
    "\n",
    "It is important to explain that the test and training set are disjoint sets as no sentence in one set is included in the other one. Consequently, as the accuracy is obtained from the test set and the models have been trained using the training set, it should not have overfitting.\n",
    "\n",
    "Moreover, I would select Perceptron (or maybe CRF model) because it requires less samples to get a high accuracy compared to TnT model or HMM model, which require a huge amount of sentences to get at least 0.37 of accuracy."
   ]
  },
  {
   "cell_type": "markdown",
   "metadata": {},
   "source": [
    "### 2.2 Tagging Example\n",
    "The last way that will be used to measure the performance of the models will consist in taking the sentence of the provided *Jupyter Notebooks* in order to analyze if the words of the sentence are correctly tagged using the best model of *HMM*, *TnT*, *Perceptron*, *CRF*:"
   ]
  },
  {
   "cell_type": "code",
   "execution_count": 7,
   "metadata": {},
   "outputs": [
    {
     "name": "stdout",
     "output_type": "stream",
     "text": [
      "HMM:\n",
      "[('the', 'DT'), ('men', 'NNS'), ('attended', 'VBD'), ('to', 'TO'), ('the', 'DT'), ('meetings', 'NNS')]\n",
      "TnT:\n",
      "[('the', 'DT'), ('men', 'NNS'), ('attended', 'VBD'), ('to', 'TO'), ('the', 'DT'), ('meetings', 'NNS')]\n",
      "Perceptron:\n",
      "[('the', 'DT'), ('men', 'NNS'), ('attended', 'VBD'), ('to', 'TO'), ('the', 'DT'), ('meetings', 'NNS')]\n",
      "CRF:\n",
      "[('the', 'DT'), ('men', 'NNS'), ('attended', 'VBD'), ('to', 'TO'), ('the', 'DT'), ('meetings', 'NNS')]\n"
     ]
    }
   ],
   "source": [
    "sentence = ['the', 'men', 'attended', 'to', 'the', 'meetings']\n",
    "\n",
    "print(\"HMM:\\n\" +  str(HMM[5].tag(sentence)))\n",
    "print(\"TnT:\\n\" +  str(TnT[5].tag(sentence)))\n",
    "print(\"Perceptron:\\n\" +  str(PER[5].tag(sentence)))\n",
    "print(\"CRF:\\n\" +  str(CRF[5].tag(sentence)))"
   ]
  },
  {
   "cell_type": "markdown",
   "metadata": {},
   "source": [
    "In this example, all words are correctly tagged as the four models are enough accurate to tag them. Nevertheless, if the tagging difficulty increments, HMM model is likely to make mistakes while tagging as its accuracy is lower than the rest of models."
   ]
  }
 ],
 "metadata": {
  "kernelspec": {
   "display_name": "Python 3",
   "language": "python",
   "name": "python3"
  },
  "language_info": {
   "codemirror_mode": {
    "name": "ipython",
    "version": 3
   },
   "file_extension": ".py",
   "mimetype": "text/x-python",
   "name": "python",
   "nbconvert_exporter": "python",
   "pygments_lexer": "ipython3",
   "version": "3.8.5"
  }
 },
 "nbformat": 4,
 "nbformat_minor": 1
}