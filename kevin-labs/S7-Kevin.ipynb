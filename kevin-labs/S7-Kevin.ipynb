{
 "cells": [
  {
   "cell_type": "markdown",
   "metadata": {
    "collapsed": true
   },
   "source": [
    "# IHLT - Lab 7 \n",
    "1. Read all pairs of sentences of the trial set within the evaluation framework of the project.\n",
    "2. Compute their similarities by considering the following approach:\n",
    "    - words plus NEs and Jaccard coefficient (`word_and_NEs=['John Smith', 'is', 'working']`)\n",
    "3. Show the results.\n",
    "4. Do you think it could be relevant to use NEs to compute the similarity between two sentences? Justify the answer."
   ]
  },
  {
   "cell_type": "markdown",
   "metadata": {},
   "source": [
    "## Imports"
   ]
  },
  {
   "cell_type": "code",
   "execution_count": 1,
   "metadata": {},
   "outputs": [],
   "source": [
    "from nltk import word_tokenize, pos_tag, ne_chunk\n",
    "from nltk.metrics import jaccard_distance\n",
    "from scipy.stats import pearsonr\n",
    "import nltk"
   ]
  },
  {
   "cell_type": "markdown",
   "metadata": {},
   "source": [
    "## 1. Data Preparation\n",
    "\n",
    "As it has been done in other lab sessions, all pairs of sentences of the trial set are read and stored in a variable."
   ]
  },
  {
   "cell_type": "code",
   "execution_count": 2,
   "metadata": {},
   "outputs": [
    {
     "name": "stdout",
     "output_type": "stream",
     "text": [
      "1. ('The bird is bathing in the sink.', 'Birdie is washing itself in the water basin.')\n",
      "2. ('In May 2010, the troops attempted to invade Kabul.', 'The US army invaded Kabul on May 7th last year, 2010.')\n",
      "3. ('John said he is considered a witness but not a suspect.', '\"He is not a suspect anymore.\" John said.')\n",
      "4. ('They flew out of the nest in groups.', 'They flew into the nest together.')\n",
      "5. ('The woman is playing the violin.', 'The young lady enjoys listening to the guitar.')\n",
      "6. ('John went horse back riding at dawn with a whole group of friends.', 'Sunrise at dawn is a magnificent view to take in if you wake up early enough for it.')\n"
     ]
    }
   ],
   "source": [
    "pairs = list()\n",
    "with open('trial/STS.input.txt','r') as f:\n",
    "    lines = f.readlines()\n",
    "    for line in lines:\n",
    "        line = nltk.TabTokenizer().tokenize(line.strip())\n",
    "        pairs.append((line[1], line[2]))\n",
    "        \n",
    "for index, pair in enumerate(pairs):\n",
    "    print(str(index + 1) + \".\", pair)"
   ]
  },
  {
   "cell_type": "markdown",
   "metadata": {},
   "source": [
    "## 2. Word + NEs approach\n",
    "In order to get the *Jaccard Coefficient* between each pair of sentences, words + NEs will be obtained for each sample this time. The NERC will be evaluated using NLTK."
   ]
  },
  {
   "cell_type": "code",
   "execution_count": 3,
   "metadata": {},
   "outputs": [
    {
     "name": "stdout",
     "output_type": "stream",
     "text": [
      "1. ([('The', 'DT'), ('bird', 'NN'), ('is', 'VBZ'), ('bathing', 'VBG'), ('in', 'IN'), ('the', 'DT'), ('sink', 'NN'), ('.', '.')], [('Birdie', 'NNP'), ('is', 'VBZ'), ('washing', 'VBG'), ('itself', 'PRP'), ('in', 'IN'), ('the', 'DT'), ('water', 'NN'), ('basin', 'NN'), ('.', '.')]) \n",
      "\n",
      "2. ([('In', 'IN'), ('May', 'NNP'), ('2010', 'CD'), (',', ','), ('the', 'DT'), ('troops', 'NNS'), ('attempted', 'VBD'), ('to', 'TO'), ('invade', 'VB'), ('Kabul', 'NNP'), ('.', '.')], [('The', 'DT'), ('US', 'NNP'), ('army', 'NN'), ('invaded', 'VBD'), ('Kabul', 'NNP'), ('on', 'IN'), ('May', 'NNP'), ('7th', 'CD'), ('last', 'JJ'), ('year', 'NN'), (',', ','), ('2010', 'CD'), ('.', '.')]) \n",
      "\n",
      "3. ([('John', 'NNP'), ('said', 'VBD'), ('he', 'PRP'), ('is', 'VBZ'), ('considered', 'VBN'), ('a', 'DT'), ('witness', 'NN'), ('but', 'CC'), ('not', 'RB'), ('a', 'DT'), ('suspect', 'NN'), ('.', '.')], [('``', '``'), ('He', 'PRP'), ('is', 'VBZ'), ('not', 'RB'), ('a', 'DT'), ('suspect', 'NN'), ('anymore', 'RB'), ('.', '.'), (\"''\", \"''\"), ('John', 'NNP'), ('said', 'VBD'), ('.', '.')]) \n",
      "\n",
      "4. ([('They', 'PRP'), ('flew', 'VBD'), ('out', 'IN'), ('of', 'IN'), ('the', 'DT'), ('nest', 'JJS'), ('in', 'IN'), ('groups', 'NNS'), ('.', '.')], [('They', 'PRP'), ('flew', 'VBD'), ('into', 'IN'), ('the', 'DT'), ('nest', 'JJS'), ('together', 'RB'), ('.', '.')]) \n",
      "\n",
      "5. ([('The', 'DT'), ('woman', 'NN'), ('is', 'VBZ'), ('playing', 'VBG'), ('the', 'DT'), ('violin', 'NN'), ('.', '.')], [('The', 'DT'), ('young', 'JJ'), ('lady', 'NN'), ('enjoys', 'VBZ'), ('listening', 'VBG'), ('to', 'TO'), ('the', 'DT'), ('guitar', 'NN'), ('.', '.')]) \n",
      "\n",
      "6. ([('John', 'NNP'), ('went', 'VBD'), ('horse', 'NN'), ('back', 'RB'), ('riding', 'VBG'), ('at', 'IN'), ('dawn', 'NN'), ('with', 'IN'), ('a', 'DT'), ('whole', 'JJ'), ('group', 'NN'), ('of', 'IN'), ('friends', 'NNS'), ('.', '.')], [('Sunrise', 'NN'), ('at', 'IN'), ('dawn', 'NN'), ('is', 'VBZ'), ('a', 'DT'), ('magnificent', 'JJ'), ('view', 'NN'), ('to', 'TO'), ('take', 'VB'), ('in', 'IN'), ('if', 'IN'), ('you', 'PRP'), ('wake', 'VBP'), ('up', 'RP'), ('early', 'RB'), ('enough', 'RB'), ('for', 'IN'), ('it', 'PRP'), ('.', '.')]) \n",
      "\n"
     ]
    }
   ],
   "source": [
    "pairs = [(pos_tag(word_tokenize(p[0])), pos_tag(word_tokenize(p[1]))) for p in pairs]\n",
    "\n",
    "for index, pair in enumerate(pairs):\n",
    "    print(str(index + 1) + \".\", pair, '\\n')"
   ]
  },
  {
   "cell_type": "markdown",
   "metadata": {},
   "source": [
    "In the NLTK's NERC, the option `binary=True` will be used in order to just recognize named entities, without taking into consideration the classification of three NEs classes (PERSON, LOCATION, ORGANIZATION). Moreover, the function `tree2conlltags(ne_chunk_res)` will be utilized in order to iterate and get the NEs.\n",
    "\n",
    "The function `transform_sentence(ne_chunk_res)` will iterate over the tree using `tree2conlltags(ne_chunk_res)` and will return the proposed approach (Words + NEs)"
   ]
  },
  {
   "cell_type": "code",
   "execution_count": 4,
   "metadata": {},
   "outputs": [],
   "source": [
    "def transform_sentence(ne_chunk_res):\n",
    "    conlltags = nltk.chunk.tree2conlltags(ne_chunk_res)\n",
    "    transformed_sentence = []\n",
    "    index = 0\n",
    "    while index < len(conlltags):\n",
    "        if conlltags[index][2] == 'B-NE':\n",
    "            ne = conlltags[index][0]\n",
    "            for consecutive_index in range(index+1, len(conlltags)):\n",
    "                if conlltags[consecutive_index][2] == 'I-NE':\n",
    "                    ne += \" \" + conlltags[consecutive_index][0]\n",
    "                else:\n",
    "                    break\n",
    "            transformed_sentence.append(ne)\n",
    "            index = consecutive_index\n",
    "        else:\n",
    "            transformed_sentence.append(conlltags[index][0])\n",
    "            index += 1\n",
    "    return transformed_sentence"
   ]
  },
  {
   "cell_type": "code",
   "execution_count": 5,
   "metadata": {},
   "outputs": [
    {
     "name": "stdout",
     "output_type": "stream",
     "text": [
      "1. (['The', 'bird', 'is', 'bathing', 'in', 'the', 'sink', '.'], ['Birdie', 'is', 'washing', 'itself', 'in', 'the', 'water', 'basin', '.']) \n",
      "\n",
      "2. (['In', 'May', '2010', ',', 'the', 'troops', 'attempted', 'to', 'invade', 'Kabul', '.'], ['The', 'US', 'army', 'invaded', 'Kabul', 'on', 'May', '7th', 'last', 'year', ',', '2010', '.']) \n",
      "\n",
      "3. (['John', 'said', 'he', 'is', 'considered', 'a', 'witness', 'but', 'not', 'a', 'suspect', '.'], ['``', 'He', 'is', 'not', 'a', 'suspect', 'anymore', '.', \"''\", 'John', 'said', '.']) \n",
      "\n",
      "4. (['They', 'flew', 'out', 'of', 'the', 'nest', 'in', 'groups', '.'], ['They', 'flew', 'into', 'the', 'nest', 'together', '.']) \n",
      "\n",
      "5. (['The', 'woman', 'is', 'playing', 'the', 'violin', '.'], ['The', 'young', 'lady', 'enjoys', 'listening', 'to', 'the', 'guitar', '.']) \n",
      "\n",
      "6. (['John', 'went', 'horse', 'back', 'riding', 'at', 'dawn', 'with', 'a', 'whole', 'group', 'of', 'friends', '.'], ['Sunrise', 'at', 'dawn', 'is', 'a', 'magnificent', 'view', 'to', 'take', 'in', 'if', 'you', 'wake', 'up', 'early', 'enough', 'for', 'it', '.']) \n",
      "\n"
     ]
    }
   ],
   "source": [
    "word_and_NEs = [(transform_sentence(ne_chunk(pair[0], binary=True)), \n",
    "                 transform_sentence(ne_chunk(pair[1], binary=True))) \n",
    "                for pair in pairs]\n",
    "\n",
    "for index, pair in enumerate(word_and_NEs):\n",
    "    print(str(index + 1) + \".\", pair, '\\n')"
   ]
  },
  {
   "cell_type": "markdown",
   "metadata": {},
   "source": [
    "**Notice from the output that this approach with the *trial set* would be the same that the approach using only words. The reason behind this is that the NEs have a maximum length of 1 in these pairs (*e.g.* 'Kabul', 'Birdie'...).**\n",
    "\n",
    "Therefore, as the sets are composed of the same elements used in other sessions, the similarity and the *Pearson Correlation Coefficient* will be the same."
   ]
  },
  {
   "cell_type": "markdown",
   "metadata": {},
   "source": [
    "## 3. Similarities and *Jaccard Coefficient*\n",
    "\n",
    "As we have done in other lab sessions, the *Jaccard Coefficient* is used in order to compute the similarity between pairs of sentences. In this case, it is used the combination of their words and NEs (with all NEs with a maximum length of 1)."
   ]
  },
  {
   "cell_type": "code",
   "execution_count": 6,
   "metadata": {},
   "outputs": [
    {
     "name": "stdout",
     "output_type": "stream",
     "text": [
      "Similarities (considering Words + NEs):\n",
      "\n",
      "1. 0.3076923076923077\n",
      "2. 0.26315789473684215\n",
      "3. 0.4666666666666667\n",
      "4. 0.4545454545454546\n",
      "5. 0.23076923076923073\n",
      "6. 0.13793103448275867\n"
     ]
    }
   ],
   "source": [
    "similarities = [1 - jaccard_distance(set(p[0]), set(p[1])) for p in word_and_NEs]\n",
    "\n",
    "print(\"Similarities (considering Words + NEs):\\n\")\n",
    "for index, similarity in enumerate(similarities, 1):\n",
    "    print(str(index) + \".\", similarity)"
   ]
  },
  {
   "cell_type": "markdown",
   "metadata": {},
   "source": [
    "As it has been done in the other lab sessions, the similarities will be compared to the Gold Standard using the *Pearson Correlation Coefficient* too.\n",
    "\n",
    "According to `00-readme.txt`, the similarity between two sentences that are completely equivalent should be 1/1 (or 5/5) and the similarity between two sentences that are on different topics should be 0/1 (or 0/5). For that reason, the reference similarities should be `[1.0, 0.8, 0.6, 0.4, 0.2, 0]` or its proportional values `[5, 4, 3, 2, 1, 0]`.\n",
    "\n",
    "The values in the gold standard file STS.gs.txt are reversed, so they will be read and then inverted in order to get them correctly:"
   ]
  },
  {
   "cell_type": "code",
   "execution_count": 7,
   "metadata": {},
   "outputs": [
    {
     "name": "stdout",
     "output_type": "stream",
     "text": [
      "Gold standard: [5, 4, 3, 2, 1, 0]\n",
      "Pearson correlation (words + NEs): 0.3962389776119232\n"
     ]
    }
   ],
   "source": [
    "gs = list()\n",
    "with open('trial/STS.gs.txt','r') as f:\n",
    "    lines = f.readlines()\n",
    "    for line in lines:\n",
    "        line = nltk.TabTokenizer().tokenize(line.strip())\n",
    "        gs.append(int(line[1]))\n",
    "\n",
    "gs.reverse()\n",
    "print(\"Gold standard:\", gs)\n",
    "print(\"Pearson correlation (words + NEs):\", pearsonr(gs, similarities)[0])"
   ]
  },
  {
   "cell_type": "markdown",
   "metadata": {},
   "source": [
    "**Do you think it could be relevant to use NEs to compute the similarity between two sentences? Justify the answer.**\n",
    "\n",
    "As it has been explained, the NEs in the *trial set* have a maximum length of one word. Consequently, the same similarities and *Pearson Correlation Coefficient* are obtained.\n",
    "\n",
    "To answer this question, 5 pairs of sentences from the *test set* of the project (`STS.input.MSRpar.txt`) will be selected in order to use this approach (words + NEs) and compare correctly its performance:"
   ]
  },
  {
   "cell_type": "code",
   "execution_count": 8,
   "metadata": {},
   "outputs": [],
   "source": [
    "pairs = list()\n",
    "with open('test-gold/STS.input.MSRpar.txt','r') as f:\n",
    "    lines = f.readlines()[:5]\n",
    "    for line in lines:\n",
    "        line = nltk.TabTokenizer().tokenize(line.strip())\n",
    "        pairs.append((line[0], line[1]))\n",
    "\n",
    "word = [(word_tokenize(p[0]), word_tokenize(p[1])) for p in pairs]\n",
    "\n",
    "pairs = [(pos_tag(p[0]), pos_tag(p[1])) for p in word]\n",
    "word_and_NEs = [(transform_sentence(ne_chunk(pair[0], binary=True)), \n",
    "                 transform_sentence(ne_chunk(pair[1], binary=True))) \n",
    "                for pair in pairs]"
   ]
  },
  {
   "cell_type": "code",
   "execution_count": 9,
   "metadata": {},
   "outputs": [
    {
     "name": "stdout",
     "output_type": "stream",
     "text": [
      "Words\n",
      "1. (['The', 'problem', 'likely', 'will', 'mean', 'corrective', 'changes', 'before', 'the', 'shuttle', 'fleet', 'starts', 'flying', 'again', '.'], ['He', 'said', 'the', 'problem', 'needs', 'to', 'be', 'corrected', 'before', 'the', 'space', 'shuttle', 'fleet', 'is', 'cleared', 'to', 'fly', 'again', '.']) \n",
      "\n",
      "2. (['The', 'technology-laced', 'Nasdaq', 'Composite', 'Index', '.IXIC', 'inched', 'down', '1', 'point', ',', 'or', '0.11', 'percent', ',', 'to', '1,650', '.'], ['The', 'broad', 'Standard', '&', 'Poor', \"'s\", '500', 'Index', '.SPX', 'inched', 'up', '3', 'points', ',', 'or', '0.32', 'percent', ',', 'to', '970', '.']) \n",
      "\n",
      "3. (['``', 'It', \"'s\", 'a', 'huge', 'black', 'eye', ',', \"''\", 'said', 'publisher', 'Arthur', 'Ochs', 'Sulzberger', 'Jr.', ',', 'whose', 'family', 'has', 'controlled', 'the', 'paper', 'since', '1896', '.'], ['``', 'It', \"'s\", 'a', 'huge', 'black', 'eye', ',', \"''\", 'Arthur', 'Sulzberger', ',', 'the', 'newspaper', \"'s\", 'publisher', ',', 'said', 'of', 'the', 'scandal', '.']) \n",
      "\n",
      "4. (['SEC', 'Chairman', 'William', 'Donaldson', 'said', 'there', 'is', 'a', '``', 'building', 'confidence', 'out', 'there', 'that', 'the', 'cop', 'is', 'on', 'the', 'beat', '.', \"''\"], ['``', 'I', 'think', 'there', \"'s\", 'a', 'building', 'confidence', 'that', 'the', 'cop', 'is', 'on', 'the', 'beat', '.', \"''\"]) \n",
      "\n",
      "5. (['Vivendi', 'shares', 'closed', '1.9', 'percent', 'at', '15.80', 'euros', 'in', 'Paris', 'after', 'falling', '3.6', 'percent', 'on', 'Monday', '.'], ['In', 'New', 'York', ',', 'Vivendi', 'shares', 'were', '1.4', 'percent', 'down', 'at', '$', '18.29', '.']) \n",
      "\n"
     ]
    }
   ],
   "source": [
    "print(\"Words\")\n",
    "for index, pair in enumerate(word):\n",
    "    print(str(index + 1) + \".\", pair, '\\n')"
   ]
  },
  {
   "cell_type": "code",
   "execution_count": 10,
   "metadata": {},
   "outputs": [
    {
     "name": "stdout",
     "output_type": "stream",
     "text": [
      "Words + NEs\n",
      "1. (['The', 'problem', 'likely', 'will', 'mean', 'corrective', 'changes', 'before', 'the', 'shuttle', 'fleet', 'starts', 'flying', 'again', '.'], ['He', 'said', 'the', 'problem', 'needs', 'to', 'be', 'corrected', 'before', 'the', 'space', 'shuttle', 'fleet', 'is', 'cleared', 'to', 'fly', 'again', '.']) \n",
      "\n",
      "2. (['The', 'technology-laced', 'Nasdaq Composite Index', '.IXIC', 'inched', 'down', '1', 'point', ',', 'or', '0.11', 'percent', ',', 'to', '1,650', '.'], ['The', 'broad', 'Standard', '&', 'Poor', \"'s\", '500', 'Index', '.SPX', 'inched', 'up', '3', 'points', ',', 'or', '0.32', 'percent', ',', 'to', '970', '.']) \n",
      "\n",
      "3. (['``', 'It', \"'s\", 'a', 'huge', 'black', 'eye', ',', \"''\", 'said', 'publisher', 'Arthur Ochs Sulzberger', 'Jr.', ',', 'whose', 'family', 'has', 'controlled', 'the', 'paper', 'since', '1896', '.'], ['``', 'It', \"'s\", 'a', 'huge', 'black', 'eye', ',', \"''\", 'Arthur Sulzberger', ',', 'the', 'newspaper', \"'s\", 'publisher', ',', 'said', 'of', 'the', 'scandal', '.']) \n",
      "\n",
      "4. (['SEC', 'Chairman', 'William Donaldson', 'said', 'there', 'is', 'a', '``', 'building', 'confidence', 'out', 'there', 'that', 'the', 'cop', 'is', 'on', 'the', 'beat', '.', \"''\"], ['``', 'I', 'think', 'there', \"'s\", 'a', 'building', 'confidence', 'that', 'the', 'cop', 'is', 'on', 'the', 'beat', '.', \"''\"]) \n",
      "\n",
      "5. (['Vivendi', 'shares', 'closed', '1.9', 'percent', 'at', '15.80', 'euros', 'in', 'Paris', 'after', 'falling', '3.6', 'percent', 'on', 'Monday', '.'], ['In', 'New York', ',', 'Vivendi', 'shares', 'were', '1.4', 'percent', 'down', 'at', '$', '18.29', '.']) \n",
      "\n"
     ]
    }
   ],
   "source": [
    "print(\"Words + NEs\")\n",
    "for index, pair in enumerate(word_and_NEs):\n",
    "    print(str(index + 1) + \".\", pair, '\\n')"
   ]
  },
  {
   "cell_type": "markdown",
   "metadata": {},
   "source": [
    "Similarities and *Jaccard Correlation Coefficient* with this *test set*:"
   ]
  },
  {
   "cell_type": "code",
   "execution_count": 11,
   "metadata": {},
   "outputs": [
    {
     "name": "stdout",
     "output_type": "stream",
     "text": [
      "Similarities (considering Words) [test set]:\n",
      "\n",
      "1. 0.28\n",
      "2. 0.27586206896551724\n",
      "3. 0.5555555555555556\n",
      "4. 0.5909090909090908\n",
      "5. 0.19999999999999996\n",
      "\n",
      "Similarities (considering Words + NEs) [test set]:\n",
      "\n",
      "1. 0.28\n",
      "2. 0.25\n",
      "3. 0.5\n",
      "4. 0.6190476190476191\n",
      "5. 0.20833333333333337\n"
     ]
    }
   ],
   "source": [
    "similarities = [1 - jaccard_distance(set(p[0]), set(p[1])) for p in word]\n",
    "\n",
    "print(\"Similarities (considering Words) [test set]:\\n\")\n",
    "for index, similarity in enumerate(similarities, 1):\n",
    "    print(str(index) + \".\", similarity)\n",
    "    \n",
    "similarities_NEs = [1 - jaccard_distance(set(p[0]), set(p[1])) for p in word_and_NEs]\n",
    "\n",
    "print(\"\\nSimilarities (considering Words + NEs) [test set]:\\n\")\n",
    "for index, similarity in enumerate(similarities_NEs, 1):\n",
    "    print(str(index) + \".\", similarity)"
   ]
  },
  {
   "cell_type": "code",
   "execution_count": 12,
   "metadata": {},
   "outputs": [
    {
     "name": "stdout",
     "output_type": "stream",
     "text": [
      "Gold standard: [4.4, 0.8, 3.6, 3.4, 1.4]\n",
      "Pearson correlation (words): 0.5138216407797424\n",
      "Pearson correlation (words + NEs): 0.5239147649937855\n"
     ]
    }
   ],
   "source": [
    "gs = list()\n",
    "with open('test-gold/STS.gs.MSRpar.txt','r') as f:\n",
    "    lines = f.readlines()[:5]\n",
    "    for line in lines:\n",
    "        line = nltk.TabTokenizer().tokenize(line.strip())\n",
    "        gs.append(float(line[0]))\n",
    "\n",
    "print(\"Gold standard:\", gs)\n",
    "print(\"Pearson correlation (words):\", pearsonr(gs, similarities)[0])\n",
    "print(\"Pearson correlation (words + NEs):\", pearsonr(gs, similarities_NEs)[0])"
   ]
  },
  {
   "cell_type": "markdown",
   "metadata": {},
   "source": [
    "As it can be analyzed, the utilization of NEs can improve the *Pearson Correlation Coefficient*. Some pairs of sentences will be studied in order to infer the reason of this improvement (NEs in bold):\n",
    "\n",
    "- Second pair:\n",
    "    - The technology-laced **Nasdaq Composite Index** .IXIC inched down 1 point, or 0.11 percent, to 1,650.\t\n",
    "    - The broad Standard & Poor's 500 *Index* .SPX inched up 3 points, or 0.32 percent, to 970.\n",
    "    \n",
    "As **Nasdaq Composite Index** is a NEs, when the *Jaccard distance* is computed, it does not take into consideration the word *Index* as an equivalence between the pair of sentence. Therefore, the similarity gets a lower value and results in a value nearer to the GS.\n",
    "\n",
    "- Fourth pair:\n",
    "    - SEC Chairman **William Donaldson** said there is a \"building confidence out there that the cop is on the beat.\"\n",
    "    - \"I think there's a building confidence that the cop is on the beat.\"\n",
    "    \n",
    "As **William Donaldson** is considered as a singular element, there are less different elements between the pair of sentences. Consequently, the similarity gets a higher value and results in a value nearer to the GS.\n",
    "\n",
    "- Fifth pair:\n",
    "    - Vivendi shares closed 1.9 percent at 15.80 euros in Paris after falling 3.6 percent on Monday.\n",
    "    - In **New York**, Vivendi shares were 1.4 percent down at $18.29.\n",
    "\n",
    "In this pair, the same situation that happened with the fourth pair occurs.\n",
    "\n",
    "Nevertheless, sometimes, the use of NEs can produce worse results sometimes:\n",
    "\n",
    "- Third pair:\n",
    "    - \"It's a huge black eye,\" said publisher **Arthur Ochs Sulzberger** Jr., whose family has controlled the paper since 1896.\n",
    "    - \"It's a huge black eye,\" **Arthur Sulzberger**, the newspaper's publisher, said of the scandal.\n",
    "    \n",
    "In this case, since the entire name **Arthur Ochs Sulzberger** is not equal to the name of the second sentence **Arthur Sulzberger**, the similarity gets a lower value and more distance to the GS.\n",
    "\n",
    "In conclusion, after analyzing these examples, the use of NEs can be relevant when computing the similarity between a pair of sentences. Even taking into account samples where the results get worse (fifth pair), there are some cases where the results improve (second, fourth & fifth pair). The underlying reason behind this is the fact that some combination of words should be taken as a single word (*e.g.* New York) instead of comparing them separately. In other words, only if the entire NEs is in the other sentence, it should be taken as a similar word. \n",
    "\n",
    "On the other hand, as the number of elements inside each set of the *Jaccard Distance* is reduced (due to the transformation of sequence of words to a single NE), the variation of similarity (*i.e.* the weight of each element in the computation) is greater. Therefore, if the inclusion of NEs is taken with caution, it can be relevant."
   ]
  },
  {
   "cell_type": "markdown",
   "metadata": {},
   "source": [
    "## 4. Optional Exercise\n",
    "Enlarge the provided grammar to parse the next sentence as the image of the definition of the exercise:\n",
    "\n",
    "```python\n",
    "[(\"the\", \"DT\"), (\"little\", \"JJ\"), (\"yellow\", \"JJ\"),(\"dog\", \"NN\"),\\\n",
    " (\"barked\", \"VBD\"), (\"at\", \"IN\"), (\"the\", \"DT\"), (\"cat\", \"NN\"), \\\n",
    " (\"in\", \"IN\"), (\"New\", \"NNP\"), (\"York\", \"NNP\")]\n",
    "```"
   ]
  },
  {
   "cell_type": "code",
   "execution_count": 13,
   "metadata": {},
   "outputs": [
    {
     "name": "stdout",
     "output_type": "stream",
     "text": [
      "(S\n",
      "  (NP the/DT little/JJ yellow/JJ dog/NN)\n",
      "  barked/VBD\n",
      "  (PP at/IN (NP the/DT cat/NN))\n",
      "  (PP in/IN (NP New/NNP York/NNP)))\n"
     ]
    },
    {
     "data": {
      "image/png": "[encoded data removed]",
      "text/plain": [
       "Tree('S', [Tree('NP', [('the', 'DT'), ('little', 'JJ'), ('yellow', 'JJ'), ('dog', 'NN')]), ('barked', 'VBD'), Tree('PP', [('at', 'IN'), Tree('NP', [('the', 'DT'), ('cat', 'NN')])]), Tree('PP', [('in', 'IN'), Tree('NP', [('New', 'NNP'), ('York', 'NNP')])])])"
      ]
     },
     "execution_count": 13,
     "metadata": {},
     "output_type": "execute_result"
    }
   ],
   "source": [
    "sentence = [(\"the\", \"DT\"), (\"little\", \"JJ\"), (\"yellow\", \"JJ\"),(\"dog\", \"NN\"),\\\n",
    "            (\"barked\", \"VBD\"), (\"at\", \"IN\"), (\"the\", \"DT\"), (\"cat\", \"NN\"), \\\n",
    "            (\"in\", \"IN\"), (\"New\", \"NNP\"), (\"York\", \"NNP\")]\n",
    "\n",
    "# grammar = \"NP: {<DT>?<JJ>*<NN>}\"\n",
    "\n",
    "grammar = \"\"\"\n",
    "          NP: {<DT>?<JJ>*<NN>|<NNP>+}\n",
    "          PP: {<IN><NP>}\n",
    "          \"\"\" \n",
    "\n",
    "cp = nltk.RegexpParser(grammar)\n",
    "result = cp.parse(sentence)\n",
    "\n",
    "print(result)\n",
    "result"
   ]
  },
  {
   "cell_type": "markdown",
   "metadata": {},
   "source": [
    "As it can be observed, the grammar has changed from this:\n",
    "\n",
    "`NP: {<DT>?<JJ>*<NN>}`\n",
    "\n",
    "To a grammar composed by:\n",
    "\n",
    "`NP: {<DT>?<JJ>*<NN>|<NNP>+}`, where it is admitted that a NP can be composed by a sequence of proper singular noun (NNP) instead of by a single singular or mass noun (NN) (therefore, New York is considered a NP too).\n",
    "\n",
    "`PP: {<IN><NP>}`, where it is defined that a PP is a combination of a preposition or subordinating conjunction (IN) and the NP declared before (*e.g.* (at, the cat) or (in, New York)). \n",
    "\n",
    "Notice that the order of this composition (NP & PP and not PP & NP) is important. It must be taken into consideration that this enlargement has been made trying to affect as little as possible sentences out of this example.  "
   ]
  }
 ],
 "metadata": {
  "kernelspec": {
   "display_name": "Python 3",
   "language": "python",
   "name": "python3"
  },
  "language_info": {
   "codemirror_mode": {
    "name": "ipython",
    "version": 3
   },
   "file_extension": ".py",
   "mimetype": "text/x-python",
   "name": "python",
   "nbconvert_exporter": "python",
   "pygments_lexer": "ipython3",
   "version": "3.8.5"
  }
 },
 "nbformat": 4,
 "nbformat_minor": 1
}
