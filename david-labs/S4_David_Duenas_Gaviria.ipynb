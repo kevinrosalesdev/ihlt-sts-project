{
 "cells": [
  {
   "cell_type": "markdown",
   "metadata": {},
   "source": [
    "## Lab 4 - Part of speech\n",
    "\n",
    " Statement:\n",
    "\n",
    "  1. Consider Treebank corpus\n",
    "  \n",
    "     * Train HMM, TnT, perceptron and CRF models using the first 500, 1000, 1500, 2000, 2500 and 3000 sentences.\n",
    "\n",
    "     * Evaluate the resulting 24 models using sentences from 3001.\n",
    "     \n",
    "\n",
    "  2. Provide a figure with four learning curves, each per model type (X=training set size; Y=accuracy).\n",
    "\n",
    "     * Which model would you select? Justify the answer.\n",
    "     * Upload the jupyter file of the exercise to the Raco.\n",
    "     "
   ]
  },
  {
   "cell_type": "code",
   "execution_count": 1,
   "metadata": {},
   "outputs": [],
   "source": [
    "import nltk\n",
    "from nltk.tag.hmm import HiddenMarkovModelTrainer\n",
    "from nltk.tag import tnt\n",
    "from nltk.tag.perceptron import PerceptronTagger\n",
    "from nltk.tag import CRFTagger\n",
    "from nltk.corpus import treebank\n",
    "from matplotlib import pyplot as plt"
   ]
  },
  {
   "cell_type": "code",
   "execution_count": 2,
   "metadata": {},
   "outputs": [
    {
     "name": "stderr",
     "output_type": "stream",
     "text": [
      "[nltk_data] Downloading package treebank to /home/moxie/nltk_data...\n",
      "[nltk_data]   Package treebank is already up-to-date!\n"
     ]
    },
    {
     "data": {
      "text/plain": [
       "True"
      ]
     },
     "execution_count": 2,
     "metadata": {},
     "output_type": "execute_result"
    }
   ],
   "source": [
    "nltk.download('treebank')"
   ]
  },
  {
   "cell_type": "code",
   "execution_count": 5,
   "metadata": {},
   "outputs": [
    {
     "data": {
      "text/plain": [
       "[('Neither', 'DT'),\n",
       " ('Lorillard', 'NNP'),\n",
       " ('nor', 'CC'),\n",
       " ('the', 'DT'),\n",
       " ('researchers', 'NNS'),\n",
       " ('who', 'WP'),\n",
       " ('*T*-3', '-NONE-'),\n",
       " ('studied', 'VBD'),\n",
       " ('the', 'DT'),\n",
       " ('workers', 'NNS'),\n",
       " ('were', 'VBD'),\n",
       " ('aware', 'JJ'),\n",
       " ('of', 'IN'),\n",
       " ('any', 'DT'),\n",
       " ('research', 'NN'),\n",
       " ('on', 'IN'),\n",
       " ('smokers', 'NNS'),\n",
       " ('of', 'IN'),\n",
       " ('the', 'DT'),\n",
       " ('Kent', 'NNP'),\n",
       " ('cigarettes', 'NNS'),\n",
       " ('.', '.')]"
      ]
     },
     "execution_count": 5,
     "metadata": {},
     "output_type": "execute_result"
    }
   ],
   "source": [
    "train_data_500 = treebank.tagged_sents()[:500]\n",
    "train_data_500[10]"
   ]
  },
  {
   "cell_type": "markdown",
   "metadata": {},
   "source": [
    "### Training phase of the 24 models\n",
    "\n",
    "* It might take 4-5 min to train"
   ]
  },
  {
   "cell_type": "code",
   "execution_count": 3,
   "metadata": {},
   "outputs": [
    {
     "name": "stdout",
     "output_type": "stream",
     "text": [
      "[<HiddenMarkovModelTagger 42 states and 3305 output symbols>, <HiddenMarkovModelTagger 44 states and 5391 output symbols>, <HiddenMarkovModelTagger 45 states and 6913 output symbols>, <HiddenMarkovModelTagger 46 states and 8579 output symbols>, <HiddenMarkovModelTagger 46 states and 9786 output symbols>, <HiddenMarkovModelTagger 46 states and 10779 output symbols>]\n",
      "[<nltk.tag.tnt.TnT object at 0x7f22ebfade80>, <nltk.tag.tnt.TnT object at 0x7f22ebd8f940>, <nltk.tag.tnt.TnT object at 0x7f22eae3ec40>, <nltk.tag.tnt.TnT object at 0x7f22e95d2280>, <nltk.tag.tnt.TnT object at 0x7f22ec2801f0>, <nltk.tag.tnt.TnT object at 0x7f22ec155070>]\n",
      "[<nltk.tag.perceptron.PerceptronTagger object at 0x7f22ebe15fd0>, <nltk.tag.perceptron.PerceptronTagger object at 0x7f22eb00bfa0>, <nltk.tag.perceptron.PerceptronTagger object at 0x7f22e96057f0>, <nltk.tag.perceptron.PerceptronTagger object at 0x7f22e780c940>, <nltk.tag.perceptron.PerceptronTagger object at 0x7f22e55c4df0>, <nltk.tag.perceptron.PerceptronTagger object at 0x7f22e40127c0>]\n",
      "[<nltk.tag.crf.CRFTagger object at 0x7f22ebd6a460>, <nltk.tag.crf.CRFTagger object at 0x7f22eafc6790>, <nltk.tag.crf.CRFTagger object at 0x7f22e9611b80>, <nltk.tag.crf.CRFTagger object at 0x7f22e779eb50>, <nltk.tag.crf.CRFTagger object at 0x7f22e555e970>, <nltk.tag.crf.CRFTagger object at 0x7f22e555eaf0>]\n"
     ]
    }
   ],
   "source": [
    "# Getting the datasets\n",
    "train_data_500 = treebank.tagged_sents()[:500]\n",
    "train_data_1000 = treebank.tagged_sents()[:1000]\n",
    "train_data_1500 = treebank.tagged_sents()[:1500]\n",
    "train_data_2000 = treebank.tagged_sents()[:2000]\n",
    "train_data_2500 = treebank.tagged_sents()[:2500]\n",
    "train_data_3000 = treebank.tagged_sents()[:3000]\n",
    "#Defining empty list\n",
    "hmm_list=[]\n",
    "tnt_list=[]\n",
    "per_list=[]\n",
    "crf_list=[]\n",
    "# Defining traning data list for the loop\n",
    "train_data = [train_data_500,train_data_1000,train_data_1500,train_data_2000,train_data_2500,train_data_3000]\n",
    "\n",
    "\n",
    "for i in range(6):\n",
    "    # HMM training\n",
    "    trainer = HiddenMarkovModelTrainer()\n",
    "    hmm = trainer.train_supervised(train_data[i])\n",
    "    hmm_list.append(hmm)\n",
    "    #TnT training\n",
    "    TnT=tnt.TnT()\n",
    "    TnT.train(train_data[i])\n",
    "    tnt_list.append(TnT)\n",
    "    # Perceptron training\n",
    "    PER = PerceptronTagger(load=False)\n",
    "    PER.train(train_data[i])\n",
    "    per_list.append(PER)\n",
    "    # CRF training\n",
    "    CRF = CRFTagger()\n",
    "    CRF.train(train_data[i],'crf_tagger_model')\n",
    "    crf_list.append(CRF)\n",
    "#Show data types in each list\n",
    "print(hmm_list)\n",
    "print(tnt_list)\n",
    "print(per_list)\n",
    "print(crf_list)"
   ]
  },
  {
   "cell_type": "markdown",
   "metadata": {},
   "source": [
    "### Calculate accuracy\n",
    "5-6 min to test the 913 data"
   ]
  },
  {
   "cell_type": "code",
   "execution_count": 4,
   "metadata": {},
   "outputs": [
    {
     "name": "stdout",
     "output_type": "stream",
     "text": [
      "913\n",
      "[0.173, 0.221, 0.262, 0.304, 0.335, 0.369]\n",
      "[0.747, 0.796, 0.828, 0.849, 0.862, 0.876]\n",
      "[0.914, 0.931, 0.941, 0.948, 0.953, 0.958]\n",
      "[0.91, 0.925, 0.933, 0.939, 0.943, 0.948]\n"
     ]
    }
   ],
   "source": [
    "# Test data from 3001\n",
    "test_data = treebank.tagged_sents()[3001:]\n",
    "# list to hold the acurracy of each model\n",
    "hmm_acurracy_list=[]\n",
    "TnT_acurracy_list=[]\n",
    "PER_acurracy_list=[]\n",
    "CRF_acurracy_list=[]\n",
    "\n",
    "# Loop to compute acurracy\n",
    "for i in range(6):\n",
    "    # HMM acurracy\n",
    "    hmm=round(hmm_list[i].evaluate(test_data), 3)\n",
    "    hmm_acurracy_list.append(hmm)\n",
    "    # TnT acurracy\n",
    "    Tnt=round(tnt_list[i].evaluate(test_data), 3)\n",
    "    TnT_acurracy_list.append(Tnt)\n",
    "    # Perceptron training\n",
    "    PER=round(per_list[i].evaluate(test_data), 3)\n",
    "    PER_acurracy_list.append(PER)\n",
    "    # CRF training\n",
    "    CRF=round(crf_list[i].evaluate(test_data), 3)\n",
    "    CRF_acurracy_list.append(CRF)\n",
    "# Display acurracy of each model\n",
    "print(len(test_data))\n",
    "print(hmm_acurracy_list)\n",
    "print(TnT_acurracy_list)\n",
    "print(PER_acurracy_list)\n",
    "print(CRF_acurracy_list)"
   ]
  },
  {
   "cell_type": "code",
   "execution_count": 5,
   "metadata": {},
   "outputs": [
    {
     "data": {
      "image/png": "[encoded data removed]",
      "text/plain": [
       "<Figure size 432x288 with 1 Axes>"
      ]
     },
     "metadata": {
      "needs_background": "light"
     },
     "output_type": "display_data"
    }
   ],
   "source": [
    "# Visualization of images with amount variation\n",
    "# Define the sets and titles\n",
    "training_set_list=[hmm_acurracy_list,\n",
    "TnT_acurracy_list,\n",
    "PER_acurracy_list,\n",
    "CRF_acurracy_list]\n",
    "training_set_size = [500, 1000, 1500, 2000, 2500 ,3000]\n",
    "plt_titles=['HMM','TnT', 'Perceptron','CRF']\n",
    "\n",
    "# Figures subplot\n",
    "legend=[]\n",
    "for i in range(4):\n",
    "    plt.xlabel('Training set size')\n",
    "    plt.ylabel('Acurracy')\n",
    "    plot=plt.scatter(training_set_size, training_set_list[i])\n",
    "    plt.plot(training_set_size, training_set_list[i])\n",
    "    legend.append(plot)\n",
    "\n",
    "plt.title(\"Training set size vs Acurracy for each model\")\n",
    "plt.legend([legend[0], legend[1], legend[2], legend[3]], plt_titles)\n",
    "plt.show()"
   ]
  },
  {
   "cell_type": "markdown",
   "metadata": {},
   "source": [
    "### Conclusion"
   ]
  },
  {
   "cell_type": "markdown",
   "metadata": {},
   "source": [
    "The reason why the size of the set is important, is because it usually has a big effect at the acurracy that we are able to archieve. That is well shown in the figure above. The perceptron and the CRF model are the obvious choice, specially given lower datasets, as both score with a training data of 500 an acurracy above 90%. The TnT might be a good choice as it is certainly a healthier curve in relation with the increasing of the training data size. I can see there's no risk of memorizing the training data and it might generalize better with huge corporal datasets."
   ]
  },
  {
   "cell_type": "code",
   "execution_count": null,
   "metadata": {},
   "outputs": [],
   "source": []
  }
 ],
 "metadata": {
  "kernelspec": {
   "display_name": "Python 3",
   "language": "python",
   "name": "python3"
  },
  "language_info": {
   "codemirror_mode": {
    "name": "ipython",
    "version": 3
   },
   "file_extension": ".py",
   "mimetype": "text/x-python",
   "name": "python",
   "nbconvert_exporter": "python",
   "pygments_lexer": "ipython3",
   "version": "3.8.5"
  }
 },
 "nbformat": 4,
 "nbformat_minor": 4
}
